{
 "cells": [
  {
   "cell_type": "code",
   "execution_count": 2,
   "metadata": {},
   "outputs": [],
   "source": [
    "import pandas as pd"
   ]
  },
  {
   "cell_type": "code",
   "execution_count": 10,
   "metadata": {},
   "outputs": [],
   "source": [
    "df=pd.read_csv('./abstract_screening_combined.csv')"
   ]
  },
  {
   "cell_type": "code",
   "execution_count": 11,
   "metadata": {},
   "outputs": [
    {
     "data": {
      "text/plain": [
       "2    1840\n",
       "1     156\n",
       "3      59\n",
       "Name: zavalis, dtype: int64"
      ]
     },
     "execution_count": 11,
     "metadata": {},
     "output_type": "execute_result"
    }
   ],
   "source": [
    "df['zavalis'].value_counts()"
   ]
  },
  {
   "cell_type": "code",
   "execution_count": 12,
   "metadata": {},
   "outputs": [],
   "source": [
    "df_new = df[(df['zavalis']==1) | (df['jockew1989']==1)]"
   ]
  },
  {
   "cell_type": "code",
   "execution_count": 22,
   "metadata": {},
   "outputs": [],
   "source": [
    "df_new.to_csv('first_round_included.csv')"
   ]
  },
  {
   "cell_type": "code",
   "execution_count": 23,
   "metadata": {},
   "outputs": [],
   "source": [
    "df_unclear= df[(df['zavalis']==3) | (df['jockew1989']==3)]"
   ]
  },
  {
   "cell_type": "code",
   "execution_count": 24,
   "metadata": {},
   "outputs": [
    {
     "name": "stderr",
     "output_type": "stream",
     "text": [
      "/var/folders/wx/sx67klw51p99ypb39mtcwx_00000gn/T/ipykernel_19892/1766770297.py:1: SettingWithCopyWarning: \n",
      "A value is trying to be set on a copy of a slice from a DataFrame.\n",
      "Try using .loc[row_indexer,col_indexer] = value instead\n",
      "\n",
      "See the caveats in the documentation: https://pandas.pydata.org/pandas-docs/stable/user_guide/indexing.html#returning-a-view-versus-a-copy\n",
      "  df_unclear['proposal']=''\n",
      "/var/folders/wx/sx67klw51p99ypb39mtcwx_00000gn/T/ipykernel_19892/1766770297.py:2: SettingWithCopyWarning: \n",
      "A value is trying to be set on a copy of a slice from a DataFrame.\n",
      "Try using .loc[row_indexer,col_indexer] = value instead\n",
      "\n",
      "See the caveats in the documentation: https://pandas.pydata.org/pandas-docs/stable/user_guide/indexing.html#returning-a-view-versus-a-copy\n",
      "  df_unclear['comments']=''\n"
     ]
    }
   ],
   "source": [
    "df_unclear['proposal']=''\n",
    "df_unclear['comments']=''"
   ]
  },
  {
   "cell_type": "code",
   "execution_count": 25,
   "metadata": {},
   "outputs": [],
   "source": [
    "df_unclear_output = df_unclear[[\"X.source..id\", \"abstract\", 'title','authors','jockew1989','zavalis','proposal','comments']]"
   ]
  },
  {
   "cell_type": "code",
   "execution_count": 26,
   "metadata": {},
   "outputs": [
    {
     "data": {
      "text/html": [
       "<div>\n",
       "<style scoped>\n",
       "    .dataframe tbody tr th:only-of-type {\n",
       "        vertical-align: middle;\n",
       "    }\n",
       "\n",
       "    .dataframe tbody tr th {\n",
       "        vertical-align: top;\n",
       "    }\n",
       "\n",
       "    .dataframe thead th {\n",
       "        text-align: right;\n",
       "    }\n",
       "</style>\n",
       "<table border=\"1\" class=\"dataframe\">\n",
       "  <thead>\n",
       "    <tr style=\"text-align: right;\">\n",
       "      <th></th>\n",
       "      <th>X.source..id</th>\n",
       "      <th>abstract</th>\n",
       "      <th>title</th>\n",
       "      <th>authors</th>\n",
       "      <th>jockew1989</th>\n",
       "      <th>zavalis</th>\n",
       "      <th>proposal</th>\n",
       "      <th>comments</th>\n",
       "    </tr>\n",
       "  </thead>\n",
       "  <tbody>\n",
       "    <tr>\n",
       "      <th>2</th>\n",
       "      <td>CD005029.PUB2</td>\n",
       "      <td>Abstract - Background Disabling tremor or atax...</td>\n",
       "      <td>Treatment for ataxia in multiple sclerosis</td>\n",
       "      <td>Mills and  RJ; Yap and  L; Young and  CA</td>\n",
       "      <td>1</td>\n",
       "      <td>3</td>\n",
       "      <td></td>\n",
       "      <td></td>\n",
       "    </tr>\n",
       "    <tr>\n",
       "      <th>6</th>\n",
       "      <td>CD013278.PUB2</td>\n",
       "      <td>Abstract - Background Patent ductus arteriosus...</td>\n",
       "      <td>Early treatment versus expectant management of...</td>\n",
       "      <td>Mitra and  S; Scrivens and  A; von Kursell and...</td>\n",
       "      <td>3</td>\n",
       "      <td>2</td>\n",
       "      <td></td>\n",
       "      <td></td>\n",
       "    </tr>\n",
       "    <tr>\n",
       "      <th>7</th>\n",
       "      <td>CD008107.PUB2</td>\n",
       "      <td>Abstract - Background The outcome of patients ...</td>\n",
       "      <td>Perioperative chemo(radio)therapy versus prima...</td>\n",
       "      <td>Ronellenfitsch and  U; Schwarzbach and  M; Hof...</td>\n",
       "      <td>1</td>\n",
       "      <td>3</td>\n",
       "      <td></td>\n",
       "      <td></td>\n",
       "    </tr>\n",
       "    <tr>\n",
       "      <th>43</th>\n",
       "      <td>CD005624.PUB4</td>\n",
       "      <td>Abstract - Background Great saphenous vein (GS...</td>\n",
       "      <td>Interventions for great saphenous vein incompe...</td>\n",
       "      <td>Whing and  J; Nandhra and  S; Nesbitt and  C; ...</td>\n",
       "      <td>3</td>\n",
       "      <td>2</td>\n",
       "      <td></td>\n",
       "      <td></td>\n",
       "    </tr>\n",
       "    <tr>\n",
       "      <th>62</th>\n",
       "      <td>CD004561.PUB3</td>\n",
       "      <td>Abstract - Background Axillary surgery is an e...</td>\n",
       "      <td>Axillary treatment for operable primary breast...</td>\n",
       "      <td>Bromham and  N; Schmidt‐Hansen and  M; Astin a...</td>\n",
       "      <td>3</td>\n",
       "      <td>2</td>\n",
       "      <td></td>\n",
       "      <td></td>\n",
       "    </tr>\n",
       "  </tbody>\n",
       "</table>\n",
       "</div>"
      ],
      "text/plain": [
       "     X.source..id                                           abstract  \\\n",
       "2   CD005029.PUB2  Abstract - Background Disabling tremor or atax...   \n",
       "6   CD013278.PUB2  Abstract - Background Patent ductus arteriosus...   \n",
       "7   CD008107.PUB2  Abstract - Background The outcome of patients ...   \n",
       "43  CD005624.PUB4  Abstract - Background Great saphenous vein (GS...   \n",
       "62  CD004561.PUB3  Abstract - Background Axillary surgery is an e...   \n",
       "\n",
       "                                                title  \\\n",
       "2          Treatment for ataxia in multiple sclerosis   \n",
       "6   Early treatment versus expectant management of...   \n",
       "7   Perioperative chemo(radio)therapy versus prima...   \n",
       "43  Interventions for great saphenous vein incompe...   \n",
       "62  Axillary treatment for operable primary breast...   \n",
       "\n",
       "                                              authors  jockew1989  zavalis  \\\n",
       "2            Mills and  RJ; Yap and  L; Young and  CA           1        3   \n",
       "6   Mitra and  S; Scrivens and  A; von Kursell and...           3        2   \n",
       "7   Ronellenfitsch and  U; Schwarzbach and  M; Hof...           1        3   \n",
       "43  Whing and  J; Nandhra and  S; Nesbitt and  C; ...           3        2   \n",
       "62  Bromham and  N; Schmidt‐Hansen and  M; Astin a...           3        2   \n",
       "\n",
       "   proposal comments  \n",
       "2                     \n",
       "6                     \n",
       "7                     \n",
       "43                    \n",
       "62                    "
      ]
     },
     "execution_count": 26,
     "metadata": {},
     "output_type": "execute_result"
    }
   ],
   "source": [
    "df_unclear_output.head()"
   ]
  },
  {
   "cell_type": "code",
   "execution_count": 27,
   "metadata": {},
   "outputs": [],
   "source": [
    "df_unclear_output.to_csv('combined_unclear.csv', index=False)"
   ]
  },
  {
   "cell_type": "code",
   "execution_count": 28,
   "metadata": {},
   "outputs": [],
   "source": [
    "to_john=pd.read_csv('./combined_unclear_discussion.csv')"
   ]
  },
  {
   "cell_type": "code",
   "execution_count": 29,
   "metadata": {},
   "outputs": [],
   "source": [
    "to_john=to_john[to_john['post_discussion']==3]"
   ]
  },
  {
   "cell_type": "code",
   "execution_count": 30,
   "metadata": {},
   "outputs": [],
   "source": [
    "to_john.to_csv('final_adjudication_papers.csv')"
   ]
  },
  {
   "cell_type": "code",
   "execution_count": 31,
   "metadata": {},
   "outputs": [],
   "source": [
    "df_first=pd.read_csv('./combined_unclear_discussion.csv')"
   ]
  },
  {
   "cell_type": "code",
   "execution_count": 33,
   "metadata": {},
   "outputs": [],
   "source": [
    "df_first_inc=df_first[df_first['post_discussion']==1]"
   ]
  },
  {
   "cell_type": "code",
   "execution_count": 34,
   "metadata": {},
   "outputs": [],
   "source": [
    "df_second=pd.read_csv('./final_adjudication_papers_john.csv')\n",
    "df_second_inc=df_second[df_second['final_opinion']=='yes']"
   ]
  },
  {
   "cell_type": "code",
   "execution_count": 35,
   "metadata": {},
   "outputs": [
    {
     "data": {
      "text/plain": [
       "yes    17\n",
       "no      8\n",
       "Name: final_opinion, dtype: int64"
      ]
     },
     "execution_count": 35,
     "metadata": {},
     "output_type": "execute_result"
    }
   ],
   "source": [
    "df_second['final_opinion'].value_counts()"
   ]
  },
  {
   "cell_type": "code",
   "execution_count": 36,
   "metadata": {},
   "outputs": [],
   "source": [
    "df_final=pd.concat([df_new,df_first_inc,df_second_inc], axis=0)"
   ]
  },
  {
   "cell_type": "code",
   "execution_count": 37,
   "metadata": {},
   "outputs": [
    {
     "data": {
      "text/plain": [
       "Index(['Unnamed: 0', 'Unnamed: 0.1', 'X.internal..id', 'X.source..id',\n",
       "       'abstract', 'title', 'journal', 'authors', 'tags', 'labeled_at',\n",
       "       'jockew1989', 'labeled_at.1', 'zavalis', 'Unnamed: 13', 'zavalis.1',\n",
       "       'proposal', 'comments', 'post_discussion', 'final_opinion'],\n",
       "      dtype='object')"
      ]
     },
     "execution_count": 37,
     "metadata": {},
     "output_type": "execute_result"
    }
   ],
   "source": [
    "df_final.columns"
   ]
  },
  {
   "cell_type": "code",
   "execution_count": 38,
   "metadata": {},
   "outputs": [],
   "source": [
    "df_output = df_final[[\"X.source..id\", 'title']]"
   ]
  },
  {
   "cell_type": "code",
   "execution_count": 39,
   "metadata": {},
   "outputs": [],
   "source": [
    "df_output=df_output.drop_duplicates(subset=[\"X.source..id\"], keep=False)"
   ]
  },
  {
   "cell_type": "code",
   "execution_count": 41,
   "metadata": {},
   "outputs": [
    {
     "data": {
      "text/plain": [
       "223"
      ]
     },
     "execution_count": 41,
     "metadata": {},
     "output_type": "execute_result"
    }
   ],
   "source": [
    "len(df_output)"
   ]
  },
  {
   "cell_type": "code",
   "execution_count": 43,
   "metadata": {},
   "outputs": [],
   "source": [
    "df_output.to_csv('combined_included.csv', index=False)"
   ]
  },
  {
   "cell_type": "code",
   "execution_count": 44,
   "metadata": {},
   "outputs": [],
   "source": [
    "inc=pd.read_csv('../input/included_studies.csv')"
   ]
  },
  {
   "cell_type": "code",
   "execution_count": 45,
   "metadata": {},
   "outputs": [],
   "source": [
    "full=set(list(df_output['X.source..id']))\n",
    "teeny=set(list(inc['X.source..id']))"
   ]
  },
  {
   "cell_type": "code",
   "execution_count": 49,
   "metadata": {},
   "outputs": [],
   "source": [
    "test=((full.difference(teeny)))"
   ]
  },
  {
   "cell_type": "code",
   "execution_count": 50,
   "metadata": {},
   "outputs": [],
   "source": [
    "rmv=set(list(pd.read_csv('./rest.csv')['X.source..id']))"
   ]
  },
  {
   "cell_type": "code",
   "execution_count": 52,
   "metadata": {},
   "outputs": [],
   "source": [
    "anotherone=(list(test-rmv))"
   ]
  },
  {
   "cell_type": "code",
   "execution_count": 53,
   "metadata": {},
   "outputs": [],
   "source": [
    "x=(df_output[df_output['X.source..id'].isin(anotherone)])\n",
    "x.to_csv('./rest_anotherone.csv')"
   ]
  },
  {
   "cell_type": "code",
   "execution_count": 6,
   "metadata": {},
   "outputs": [
    {
     "data": {
      "text/plain": [
       "190"
      ]
     },
     "execution_count": 6,
     "metadata": {},
     "output_type": "execute_result"
    }
   ],
   "source": [
    "len(pd.read_csv('../input/included_studies.csv').drop_duplicates(['X.source..id'],keep=False))"
   ]
  },
  {
   "cell_type": "code",
   "execution_count": null,
   "metadata": {},
   "outputs": [],
   "source": []
  }
 ],
 "metadata": {
  "kernelspec": {
   "display_name": "Python 3.9.7 ('base')",
   "language": "python",
   "name": "python3"
  },
  "language_info": {
   "codemirror_mode": {
    "name": "ipython",
    "version": 3
   },
   "file_extension": ".py",
   "mimetype": "text/x-python",
   "name": "python",
   "nbconvert_exporter": "python",
   "pygments_lexer": "ipython3",
   "version": "3.9.7"
  },
  "orig_nbformat": 4,
  "vscode": {
   "interpreter": {
    "hash": "69b35e572c017242754d2580afe35edb3e077b807609d926fbd2f462de31a9e0"
   }
  }
 },
 "nbformat": 4,
 "nbformat_minor": 2
}
